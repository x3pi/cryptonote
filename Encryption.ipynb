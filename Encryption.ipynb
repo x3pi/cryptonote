{
  "nbformat": 4,
  "nbformat_minor": 0,
  "metadata": {
    "colab": {
      "name": "Encryption.ipynb",
      "provenance": [],
      "authorship_tag": "ABX9TyO02c0ttYf+H4liOmMzZK3d",
      "include_colab_link": true
    },
    "kernelspec": {
      "name": "python3",
      "display_name": "Python 3"
    },
    "language_info": {
      "name": "python"
    }
  },
  "cells": [
    {
      "cell_type": "markdown",
      "metadata": {
        "id": "view-in-github",
        "colab_type": "text"
      },
      "source": [
        "<a href=\"https://colab.research.google.com/github/x3pi/cryptonote/blob/main/Encryption.ipynb\" target=\"_parent\"><img src=\"https://colab.research.google.com/assets/colab-badge.svg\" alt=\"Open In Colab\"/></a>"
      ]
    },
    {
      "cell_type": "markdown",
      "source": [
        "# Shannon ciphers\n",
        "\n",
        "A Shannon cipher is a pair $\\mathcal{E}=(E, D)$ of functions.\n",
        "\n",
        "key: $\\mathcal{k}$\n",
        "\n",
        "message: $\\mathcal{m}$\n",
        "\n",
        "ciphertext : $\\mathcal{c}$\n",
        "\n",
        "encryption function: $E$\n",
        "\n",
        "decryption function: $D$\n",
        "\n",
        "$\\mathcal{c} = E(\\mathcal{k}, \\mathcal{m})$\n",
        "\n",
        "$\\mathcal{m} = D(\\mathcal{k}, \\mathcal{c})$\n",
        "\n",
        "---\n",
        "\n",
        "key space: $\\mathcal{K}$\n",
        "\n",
        "message space: $\\mathcal{M}$\n",
        "\n",
        "ciphertext space: $\\mathcal{C}$\n",
        "\n",
        "$E : \\mathcal{K} × \\mathcal{M} → \\mathcal{C}$\n",
        "\n",
        "$D : \\mathcal{K} × \\mathcal{C} → \\mathcal{M}$\n",
        "\n",
        "---\n",
        "\n",
        "A one-time pad is a Shannon cipher $\\mathcal{E}=(E, D)$:\n",
        "\n",
        "$\\mathcal{K} := \\mathcal{M} := \\mathcal{C} := \\{0, 1\\}^L$\n",
        "\n",
        "for some fixed parameter L.\n",
        "\n",
        "---\n",
        "\n",
        "\n",
        "\n",
        "\n",
        "\n",
        "\n",
        "\n",
        "\n",
        "\n",
        "\n"
      ],
      "metadata": {
        "id": "Z1cnMjc3MqOh"
      }
    },
    {
      "cell_type": "markdown",
      "source": [
        ""
      ],
      "metadata": {
        "id": "ENCQfbG0ROXI"
      }
    }
  ]
}